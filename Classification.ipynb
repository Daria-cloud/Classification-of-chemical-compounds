{
 "cells": [
  {
   "cell_type": "code",
   "execution_count": 1,
   "metadata": {},
   "outputs": [],
   "source": [
    "# Comparing classification algorithms for assignment of chemical compounds into different classes"
   ]
  },
  {
   "cell_type": "code",
   "execution_count": 2,
   "metadata": {},
   "outputs": [],
   "source": [
    "# The goal of computer-aided drug design is identification of \n",
    "# novel compounds active against selected protein targets. In general, \n",
    "# all ligand-based virtual screening methods are based on the searching of \n",
    "# ligand similarity by comparison molecular structure descriptors and properties. \n",
    "# Here, I will show how to use chemical descriptor in categorising molecules \n",
    "# based on their biological functions. These features can classify compounds \n",
    "# that are diverse in substructure but nonetheless bind to the same \n",
    "# macromolecular binding sites, and can therefore be used to prepare molecular \n",
    "# databases for high-throughput and virtual screening.\n",
    "\n",
    "# We will implement the most common classification algorithms in scikit-learn and\n",
    "# compare their performance.\n",
    "\n",
    "# The following algorithms will be compared:\n",
    "\n",
    "# - Naive Bayes\n",
    "# - Support Vector Machine\n",
    "# - Logistic Regression\n",
    "# - K-Nearest Neighbors\n",
    "# - Linear Discriminant Analysis\n",
    "# - Support Vector Machine\n",
    "# - Decision Tree Classifier\n",
    "\n",
    "# The dataset and chemical descriptors are described in my article [link.....], where \n",
    "# I used a linear discriminant analysis to assign chemical compounds into 7 different \n",
    "# classes.\n",
    "# Here we will use a smaller dataset containing 45 molecules that are known to bind\n",
    "# the cyclooxygenase 1 (COX1) enzyme, 59 molecules that bind HIV-1 protease and 41 molecules bind \n",
    "# Cytochrome C peroxidase enzyme.\n",
    "# Our dataset has three classes and eight numeric input variables (chemical descriptors) of varying scales."
   ]
  },
  {
   "cell_type": "code",
   "execution_count": 3,
   "metadata": {},
   "outputs": [],
   "source": [
    "# Let's load an input data and print the first 5 elements. The molecules binding COX-1 enzyme have class label '1',\n",
    "# the molecules binding HIV-1 protease have class label '2' and molecules binding Cytochrome C peroxidase enzyme has\n",
    "# class label '3'. The eight chemical descriptors labeled as D1-D8."
   ]
  },
  {
   "cell_type": "code",
   "execution_count": 4,
   "metadata": {},
   "outputs": [
    {
     "data": {
      "text/html": [
       "<div>\n",
       "<style scoped>\n",
       "    .dataframe tbody tr th:only-of-type {\n",
       "        vertical-align: middle;\n",
       "    }\n",
       "\n",
       "    .dataframe tbody tr th {\n",
       "        vertical-align: top;\n",
       "    }\n",
       "\n",
       "    .dataframe thead th {\n",
       "        text-align: right;\n",
       "    }\n",
       "</style>\n",
       "<table border=\"1\" class=\"dataframe\">\n",
       "  <thead>\n",
       "    <tr style=\"text-align: right;\">\n",
       "      <th></th>\n",
       "      <th>D1</th>\n",
       "      <th>D2</th>\n",
       "      <th>D3</th>\n",
       "      <th>D4</th>\n",
       "      <th>D5</th>\n",
       "      <th>D6</th>\n",
       "      <th>D7</th>\n",
       "      <th>D8</th>\n",
       "      <th>Class</th>\n",
       "    </tr>\n",
       "  </thead>\n",
       "  <tbody>\n",
       "    <tr>\n",
       "      <th>0</th>\n",
       "      <td>21.996307</td>\n",
       "      <td>119.300545</td>\n",
       "      <td>42</td>\n",
       "      <td>-0.129873</td>\n",
       "      <td>-0.461116</td>\n",
       "      <td>2.354662</td>\n",
       "      <td>0.739296</td>\n",
       "      <td>0.475639</td>\n",
       "      <td>1</td>\n",
       "    </tr>\n",
       "    <tr>\n",
       "      <th>1</th>\n",
       "      <td>18.002651</td>\n",
       "      <td>111.988098</td>\n",
       "      <td>38</td>\n",
       "      <td>-0.192031</td>\n",
       "      <td>-0.003431</td>\n",
       "      <td>0.010324</td>\n",
       "      <td>0.772352</td>\n",
       "      <td>0.479507</td>\n",
       "      <td>1</td>\n",
       "    </tr>\n",
       "    <tr>\n",
       "      <th>2</th>\n",
       "      <td>26.002590</td>\n",
       "      <td>196.702667</td>\n",
       "      <td>56</td>\n",
       "      <td>0.012251</td>\n",
       "      <td>-0.149585</td>\n",
       "      <td>0.937021</td>\n",
       "      <td>0.546386</td>\n",
       "      <td>0.348632</td>\n",
       "      <td>1</td>\n",
       "    </tr>\n",
       "    <tr>\n",
       "      <th>3</th>\n",
       "      <td>22.004517</td>\n",
       "      <td>119.300545</td>\n",
       "      <td>42</td>\n",
       "      <td>-0.103873</td>\n",
       "      <td>-0.357562</td>\n",
       "      <td>1.760567</td>\n",
       "      <td>0.720476</td>\n",
       "      <td>0.462141</td>\n",
       "      <td>1</td>\n",
       "    </tr>\n",
       "    <tr>\n",
       "      <th>4</th>\n",
       "      <td>23.003124</td>\n",
       "      <td>169.373093</td>\n",
       "      <td>50</td>\n",
       "      <td>-0.161954</td>\n",
       "      <td>-0.516773</td>\n",
       "      <td>2.444123</td>\n",
       "      <td>0.743189</td>\n",
       "      <td>0.451499</td>\n",
       "      <td>1</td>\n",
       "    </tr>\n",
       "  </tbody>\n",
       "</table>\n",
       "</div>"
      ],
      "text/plain": [
       "          D1          D2  D3        D4        D5        D6        D7  \\\n",
       "0  21.996307  119.300545  42 -0.129873 -0.461116  2.354662  0.739296   \n",
       "1  18.002651  111.988098  38 -0.192031 -0.003431  0.010324  0.772352   \n",
       "2  26.002590  196.702667  56  0.012251 -0.149585  0.937021  0.546386   \n",
       "3  22.004517  119.300545  42 -0.103873 -0.357562  1.760567  0.720476   \n",
       "4  23.003124  169.373093  50 -0.161954 -0.516773  2.444123  0.743189   \n",
       "\n",
       "         D8  Class  \n",
       "0  0.475639      1  \n",
       "1  0.479507      1  \n",
       "2  0.348632      1  \n",
       "3  0.462141      1  \n",
       "4  0.451499      1  "
      ]
     },
     "execution_count": 4,
     "metadata": {},
     "output_type": "execute_result"
    }
   ],
   "source": [
    "import pandas as pd\n",
    "#url = 'https://raw.github'\n",
    "data = pd.read_csv('Dataset_COX-1_HIV-1_Cyt.csv')\n",
    "data[0:5]"
   ]
  },
  {
   "cell_type": "code",
   "execution_count": 5,
   "metadata": {},
   "outputs": [],
   "source": [
    "# So, let's create two variable X and Y. The X variable will contain all chemical descriptors and \n",
    "# Y will contain class labels."
   ]
  },
  {
   "cell_type": "code",
   "execution_count": 6,
   "metadata": {},
   "outputs": [],
   "source": [
    "val = data.values\n",
    "X = val[:,0:8]\n",
    "Y = val[:,8]"
   ]
  },
  {
   "cell_type": "code",
   "execution_count": 7,
   "metadata": {},
   "outputs": [],
   "source": [
    "# Let's train the model on 80% of the data and leave 20% for validation."
   ]
  },
  {
   "cell_type": "code",
   "execution_count": 23,
   "metadata": {},
   "outputs": [],
   "source": [
    "from sklearn.model_selection import train_test_split\n",
    "X_train, X_test, Y_train, Y_test = train_test_split(X, Y, test_size = 0.2, random_state = 650)"
   ]
  },
  {
   "cell_type": "code",
   "execution_count": 24,
   "metadata": {},
   "outputs": [],
   "source": [
    "# Let’s start by importing required classifiers."
   ]
  },
  {
   "cell_type": "code",
   "execution_count": 25,
   "metadata": {},
   "outputs": [],
   "source": [
    "from sklearn import model_selection\n",
    "from sklearn.naive_bayes import GaussianNB\n",
    "from sklearn.svm import SVC\n",
    "from sklearn.linear_model import LogisticRegression\n",
    "from sklearn.neighbors import KNeighborsClassifier\n",
    "from sklearn.discriminant_analysis import LinearDiscriminantAnalysis\n",
    "from sklearn.tree import DecisionTreeClassifier\n",
    "from sklearn.metrics import confusion_matrix"
   ]
  },
  {
   "cell_type": "code",
   "execution_count": 26,
   "metadata": {},
   "outputs": [],
   "source": [
    "# Let's prepare models, and train each model with a 10-fold cross-validation."
   ]
  },
  {
   "cell_type": "code",
   "execution_count": 33,
   "metadata": {},
   "outputs": [
    {
     "name": "stdout",
     "output_type": "stream",
     "text": [
      "LR: 0.948485 SD:0.058564\n",
      "LDA: 0.990909 SD:0.027273\n",
      "KNN: 0.965152 SD:0.058994\n",
      "DT: 0.965909 SD:0.041804\n",
      "NB: 0.965909 SD:0.041804\n",
      "SVM: 0.957576 SD:0.042478\n"
     ]
    }
   ],
   "source": [
    "seed = 15\n",
    "models = []\n",
    "names = []\n",
    "results = []\n",
    "scoring = 'accuracy'\n",
    "models.append(('LR', LogisticRegression()))\n",
    "models.append(('LDA', LinearDiscriminantAnalysis()))\n",
    "models.append(('KNN', KNeighborsClassifier()))\n",
    "models.append(('DT', DecisionTreeClassifier()))\n",
    "models.append(('NB', GaussianNB()))\n",
    "models.append(('SVM', SVC(kernel='linear')))\n",
    "for name, model in models:\n",
    "    kfold = model_selection.KFold(n_splits=10, random_state=seed)\n",
    "    cross_val = model_selection.cross_val_score(model, X_train, Y_train, cv=kfold, scoring=scoring)\n",
    "    results.append(cross_val)\n",
    "    names.append(name)\n",
    "    msg = \"%s: %f SD:%f\" % (name, cross_val.mean(), cross_val.std())\n",
    "    print(msg)"
   ]
  },
  {
   "cell_type": "code",
   "execution_count": 28,
   "metadata": {},
   "outputs": [],
   "source": [
    "# As we can see LDA outperforms other models. Let's visualize the results of each model."
   ]
  },
  {
   "cell_type": "code",
   "execution_count": 29,
   "metadata": {},
   "outputs": [
    {
     "data": {
      "image/png": "[encoded data removed]",
      "text/plain": [
       "<Figure size 432x288 with 1 Axes>"
      ]
     },
     "metadata": {
      "needs_background": "light"
     },
     "output_type": "display_data"
    }
   ],
   "source": [
    "import matplotlib.pyplot as plt\n",
    "fig = plt.figure()\n",
    "fig.suptitle('Algorithm Comparison')\n",
    "ax = fig.add_subplot(111)\n",
    "plt.boxplot(results)\n",
    "ax.set_xticklabels(names)\n",
    "plt.show()"
   ]
  },
  {
   "cell_type": "code",
   "execution_count": 70,
   "metadata": {},
   "outputs": [
    {
     "name": "stdout",
     "output_type": "stream",
     "text": [
      "0.9655\n",
      "[[12  0  1]\n",
      " [ 0 10  0]\n",
      " [ 0  0  6]]\n",
      "             precision    recall  f1-score   support\n",
      "\n",
      "        1.0       1.00      0.92      0.96        13\n",
      "        2.0       1.00      1.00      1.00        10\n",
      "        3.0       0.86      1.00      0.92         6\n",
      "\n",
      "avg / total       0.97      0.97      0.97        29\n",
      "\n"
     ]
    }
   ],
   "source": [
    "# Make predictions on validation dataset\n",
    "from sklearn.metrics import classification_report\n",
    "from sklearn.metrics import confusion_matrix\n",
    "from sklearn.metrics import accuracy_score\n",
    "LDA = LinearDiscriminantAnalysis()\n",
    "LDA.fit(X_train, Y_train)\n",
    "predictions = LDA.predict(X_test)\n",
    "print(round(accuracy_score(Y_test, predictions),4))\n",
    "print(confusion_matrix(Y_test, predictions))\n",
    "print(classification_report(Y_test, predictions))"
   ]
  },
  {
   "cell_type": "code",
   "execution_count": 31,
   "metadata": {},
   "outputs": [],
   "source": [
    "# From the confusion matrix (first row) we can see that 12 molecules binding COX-1 were classified correctly and\n",
    "# one molecule was incorrectly classified because it was assigned to class 3. \n",
    "# All 10 molecules binding HIV-1 protease (row 2) and all 6 molecules binding Cytochrome C peroxidase enzyme (row 3)\n",
    "# were classified correctly."
   ]
  }
 ],
 "metadata": {
  "kernelspec": {
   "display_name": "Python 3",
   "language": "python",
   "name": "python3"
  },
  "language_info": {
   "codemirror_mode": {
    "name": "ipython",
    "version": 3
   },
   "file_extension": ".py",
   "mimetype": "text/x-python",
   "name": "python",
   "nbconvert_exporter": "python",
   "pygments_lexer": "ipython3",
   "version": "3.7.0"
  }
 },
 "nbformat": 4,
 "nbformat_minor": 2
}
